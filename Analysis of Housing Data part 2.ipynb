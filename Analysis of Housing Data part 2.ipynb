{
 "cells": [
  {
   "cell_type": "markdown",
   "id": "dc2c2999-91e1-4ac6-ad0a-d11ae2f8937b",
   "metadata": {},
   "source": [
    "# __Project - Analysis of Housing Data contd.__"
   ]
  },
  {
   "cell_type": "code",
   "execution_count": 1,
   "id": "abcfc010-bcea-4866-a6b6-088d34421b24",
   "metadata": {},
   "outputs": [],
   "source": [
    "#importing the relevant libraries for visualization\n",
    "import numpy as np                              #importing numpy\n",
    "import pandas as pd                             #importing pandas\n",
    "import matplotlib.pyplot as plt                 #importing matplotlib\n",
    "import seaborn as sns                           #improting seaborn\n",
    "import math                                     #importing math\n",
    "import scipy.stats as stats                     #importing scipy.stats\n",
    "from statsmodels.graphics.gofplots import qqplot\n",
    "from scipy.stats import norm, uniform, ttest_1samp, chi2\n",
    "import scipy"
   ]
  },
  {
   "cell_type": "code",
   "execution_count": 2,
   "id": "63e60697-b0a1-476c-82f1-f01351500f08",
   "metadata": {},
   "outputs": [
    {
     "data": {
      "text/html": [
       "<div>\n",
       "<style scoped>\n",
       "    .dataframe tbody tr th:only-of-type {\n",
       "        vertical-align: middle;\n",
       "    }\n",
       "\n",
       "    .dataframe tbody tr th {\n",
       "        vertical-align: top;\n",
       "    }\n",
       "\n",
       "    .dataframe thead th {\n",
       "        text-align: right;\n",
       "    }\n",
       "</style>\n",
       "<table border=\"1\" class=\"dataframe\">\n",
       "  <thead>\n",
       "    <tr style=\"text-align: right;\">\n",
       "      <th></th>\n",
       "      <th>Rowid</th>\n",
       "      <th>Country</th>\n",
       "      <th>State lgd code</th>\n",
       "      <th>State</th>\n",
       "      <th>District lgd code</th>\n",
       "      <th>District</th>\n",
       "      <th>Year</th>\n",
       "      <th>Type of residence namely rural or urban</th>\n",
       "      <th>Number of census houses</th>\n",
       "      <th>Houses having grass or thatch or bamboo etc. as material of wall</th>\n",
       "      <th>Houses having plastic or polythene as material of wall</th>\n",
       "      <th>Houses having mud or unburnt brick as material of wall</th>\n",
       "      <th>Houses having wood as material of wall</th>\n",
       "      <th>Houses having stone not packed with mortar as material of wall</th>\n",
       "      <th>Houses having stone packed with mortar as material of wall</th>\n",
       "      <th>Houses having galvanized iron (gi) sheets or metal or asbestos sheets as material of wall</th>\n",
       "      <th>Houses having burnt brick as material of wall</th>\n",
       "      <th>Houses having concrete as material of wall</th>\n",
       "      <th>Houses having any other material of wall</th>\n",
       "    </tr>\n",
       "  </thead>\n",
       "  <tbody>\n",
       "    <tr>\n",
       "      <th>0</th>\n",
       "      <td>1</td>\n",
       "      <td>India</td>\n",
       "      <td>1</td>\n",
       "      <td>Jammu And Kashmir</td>\n",
       "      <td>1</td>\n",
       "      <td>Anantnag</td>\n",
       "      <td>2011</td>\n",
       "      <td>Rural</td>\n",
       "      <td>109465</td>\n",
       "      <td>270</td>\n",
       "      <td>1331</td>\n",
       "      <td>22710.000000</td>\n",
       "      <td>3014.00000</td>\n",
       "      <td>3034.000000</td>\n",
       "      <td>480.000000</td>\n",
       "      <td>229.000000</td>\n",
       "      <td>76229.00000</td>\n",
       "      <td>1400.000000</td>\n",
       "      <td>768.000000</td>\n",
       "    </tr>\n",
       "    <tr>\n",
       "      <th>1</th>\n",
       "      <td>2</td>\n",
       "      <td>India</td>\n",
       "      <td>1</td>\n",
       "      <td>Jammu And Kashmir</td>\n",
       "      <td>1</td>\n",
       "      <td>Anantnag</td>\n",
       "      <td>2011</td>\n",
       "      <td>Urban</td>\n",
       "      <td>33522</td>\n",
       "      <td>69</td>\n",
       "      <td>121</td>\n",
       "      <td>6807.000000</td>\n",
       "      <td>123.00000</td>\n",
       "      <td>268.000000</td>\n",
       "      <td>93.000000</td>\n",
       "      <td>98.000000</td>\n",
       "      <td>23789.00000</td>\n",
       "      <td>1894.000000</td>\n",
       "      <td>260.000000</td>\n",
       "    </tr>\n",
       "    <tr>\n",
       "      <th>2</th>\n",
       "      <td>3</td>\n",
       "      <td>India</td>\n",
       "      <td>1</td>\n",
       "      <td>Jammu And Kashmir</td>\n",
       "      <td>2</td>\n",
       "      <td>Budgam</td>\n",
       "      <td>2011</td>\n",
       "      <td>Rural</td>\n",
       "      <td>85561.57321</td>\n",
       "      <td>134.1822704</td>\n",
       "      <td>168.9702664</td>\n",
       "      <td>7174.278724</td>\n",
       "      <td>960.14869</td>\n",
       "      <td>748.438886</td>\n",
       "      <td>306.134365</td>\n",
       "      <td>214.691633</td>\n",
       "      <td>73342.04111</td>\n",
       "      <td>1013.821599</td>\n",
       "      <td>1498.865657</td>\n",
       "    </tr>\n",
       "    <tr>\n",
       "      <th>3</th>\n",
       "      <td>4</td>\n",
       "      <td>India</td>\n",
       "      <td>1</td>\n",
       "      <td>Jammu And Kashmir</td>\n",
       "      <td>2</td>\n",
       "      <td>Budgam</td>\n",
       "      <td>2011</td>\n",
       "      <td>Urban</td>\n",
       "      <td>13136</td>\n",
       "      <td>49</td>\n",
       "      <td>27</td>\n",
       "      <td>935.000000</td>\n",
       "      <td>24.00000</td>\n",
       "      <td>187.000000</td>\n",
       "      <td>30.000000</td>\n",
       "      <td>39.000000</td>\n",
       "      <td>11297.00000</td>\n",
       "      <td>454.000000</td>\n",
       "      <td>94.000000</td>\n",
       "    </tr>\n",
       "    <tr>\n",
       "      <th>4</th>\n",
       "      <td>5</td>\n",
       "      <td>India</td>\n",
       "      <td>1</td>\n",
       "      <td>Jammu And Kashmir</td>\n",
       "      <td>3</td>\n",
       "      <td>Baramulla</td>\n",
       "      <td>2011</td>\n",
       "      <td>Rural</td>\n",
       "      <td>120312.4268</td>\n",
       "      <td>410.8177296</td>\n",
       "      <td>173.0297336</td>\n",
       "      <td>19207.721280</td>\n",
       "      <td>3227.85131</td>\n",
       "      <td>12552.561110</td>\n",
       "      <td>5479.865635</td>\n",
       "      <td>1740.308367</td>\n",
       "      <td>72686.95889</td>\n",
       "      <td>2118.178401</td>\n",
       "      <td>2715.134343</td>\n",
       "    </tr>\n",
       "  </tbody>\n",
       "</table>\n",
       "</div>"
      ],
      "text/plain": [
       "   Rowid Country  State lgd code              State  District lgd code  \\\n",
       "0      1   India               1  Jammu And Kashmir                  1   \n",
       "1      2   India               1  Jammu And Kashmir                  1   \n",
       "2      3   India               1  Jammu And Kashmir                  2   \n",
       "3      4   India               1  Jammu And Kashmir                  2   \n",
       "4      5   India               1  Jammu And Kashmir                  3   \n",
       "\n",
       "    District  Year Type of residence namely rural or urban  \\\n",
       "0   Anantnag  2011                                   Rural   \n",
       "1   Anantnag  2011                                   Urban   \n",
       "2     Budgam  2011                                   Rural   \n",
       "3     Budgam  2011                                   Urban   \n",
       "4  Baramulla  2011                                   Rural   \n",
       "\n",
       "  Number of census houses  \\\n",
       "0                  109465   \n",
       "1                   33522   \n",
       "2             85561.57321   \n",
       "3                   13136   \n",
       "4             120312.4268   \n",
       "\n",
       "  Houses having grass or thatch or bamboo etc. as material of wall  \\\n",
       "0                                                270                 \n",
       "1                                                 69                 \n",
       "2                                        134.1822704                 \n",
       "3                                                 49                 \n",
       "4                                        410.8177296                 \n",
       "\n",
       "  Houses having plastic or polythene as material of wall  \\\n",
       "0                                               1331       \n",
       "1                                                121       \n",
       "2                                        168.9702664       \n",
       "3                                                 27       \n",
       "4                                        173.0297336       \n",
       "\n",
       "   Houses having mud or unburnt brick as material of wall  \\\n",
       "0                                       22710.000000        \n",
       "1                                        6807.000000        \n",
       "2                                        7174.278724        \n",
       "3                                         935.000000        \n",
       "4                                       19207.721280        \n",
       "\n",
       "   Houses having wood as material of wall  \\\n",
       "0                              3014.00000   \n",
       "1                               123.00000   \n",
       "2                               960.14869   \n",
       "3                                24.00000   \n",
       "4                              3227.85131   \n",
       "\n",
       "   Houses having stone not packed with mortar as material of wall  \\\n",
       "0                                        3034.000000                \n",
       "1                                         268.000000                \n",
       "2                                         748.438886                \n",
       "3                                         187.000000                \n",
       "4                                       12552.561110                \n",
       "\n",
       "   Houses having stone packed with mortar as material of wall  \\\n",
       "0                                         480.000000            \n",
       "1                                          93.000000            \n",
       "2                                         306.134365            \n",
       "3                                          30.000000            \n",
       "4                                        5479.865635            \n",
       "\n",
       "   Houses having galvanized iron (gi) sheets or metal or asbestos sheets as material of wall  \\\n",
       "0                                         229.000000                                           \n",
       "1                                          98.000000                                           \n",
       "2                                         214.691633                                           \n",
       "3                                          39.000000                                           \n",
       "4                                        1740.308367                                           \n",
       "\n",
       "   Houses having burnt brick as material of wall  \\\n",
       "0                                    76229.00000   \n",
       "1                                    23789.00000   \n",
       "2                                    73342.04111   \n",
       "3                                    11297.00000   \n",
       "4                                    72686.95889   \n",
       "\n",
       "   Houses having concrete as material of wall  \\\n",
       "0                                 1400.000000   \n",
       "1                                 1894.000000   \n",
       "2                                 1013.821599   \n",
       "3                                  454.000000   \n",
       "4                                 2118.178401   \n",
       "\n",
       "   Houses having any other material of wall  \n",
       "0                                768.000000  \n",
       "1                                260.000000  \n",
       "2                               1498.865657  \n",
       "3                                 94.000000  \n",
       "4                               2715.134343  "
      ]
     },
     "metadata": {},
     "output_type": "display_data"
    },
    {
     "data": {
      "text/html": [
       "<div>\n",
       "<style scoped>\n",
       "    .dataframe tbody tr th:only-of-type {\n",
       "        vertical-align: middle;\n",
       "    }\n",
       "\n",
       "    .dataframe tbody tr th {\n",
       "        vertical-align: top;\n",
       "    }\n",
       "\n",
       "    .dataframe thead th {\n",
       "        text-align: right;\n",
       "    }\n",
       "</style>\n",
       "<table border=\"1\" class=\"dataframe\">\n",
       "  <thead>\n",
       "    <tr style=\"text-align: right;\">\n",
       "      <th></th>\n",
       "      <th>symboling</th>\n",
       "      <th>normalized-losses</th>\n",
       "      <th>make</th>\n",
       "      <th>fuel-type</th>\n",
       "      <th>aspiration</th>\n",
       "      <th>num-of-doors</th>\n",
       "      <th>body-style</th>\n",
       "      <th>drive-wheels</th>\n",
       "      <th>engine-location</th>\n",
       "      <th>wheel-base</th>\n",
       "      <th>...</th>\n",
       "      <th>engine-size</th>\n",
       "      <th>fuel-system</th>\n",
       "      <th>bore</th>\n",
       "      <th>stroke</th>\n",
       "      <th>compression-ratio</th>\n",
       "      <th>horsepower</th>\n",
       "      <th>peak-rpm</th>\n",
       "      <th>city-mpg</th>\n",
       "      <th>highway-mpg</th>\n",
       "      <th>price</th>\n",
       "    </tr>\n",
       "  </thead>\n",
       "  <tbody>\n",
       "    <tr>\n",
       "      <th>0</th>\n",
       "      <td>3</td>\n",
       "      <td>?</td>\n",
       "      <td>alfa-romero</td>\n",
       "      <td>gas</td>\n",
       "      <td>std</td>\n",
       "      <td>two</td>\n",
       "      <td>convertible</td>\n",
       "      <td>rwd</td>\n",
       "      <td>front</td>\n",
       "      <td>88.6</td>\n",
       "      <td>...</td>\n",
       "      <td>130</td>\n",
       "      <td>mpfi</td>\n",
       "      <td>3.47</td>\n",
       "      <td>2.68</td>\n",
       "      <td>9.0</td>\n",
       "      <td>111</td>\n",
       "      <td>5000</td>\n",
       "      <td>21</td>\n",
       "      <td>27</td>\n",
       "      <td>13495</td>\n",
       "    </tr>\n",
       "    <tr>\n",
       "      <th>1</th>\n",
       "      <td>3</td>\n",
       "      <td>?</td>\n",
       "      <td>alfa-romero</td>\n",
       "      <td>gas</td>\n",
       "      <td>std</td>\n",
       "      <td>two</td>\n",
       "      <td>convertible</td>\n",
       "      <td>rwd</td>\n",
       "      <td>front</td>\n",
       "      <td>88.6</td>\n",
       "      <td>...</td>\n",
       "      <td>130</td>\n",
       "      <td>mpfi</td>\n",
       "      <td>3.47</td>\n",
       "      <td>2.68</td>\n",
       "      <td>9.0</td>\n",
       "      <td>111</td>\n",
       "      <td>5000</td>\n",
       "      <td>21</td>\n",
       "      <td>27</td>\n",
       "      <td>16500</td>\n",
       "    </tr>\n",
       "    <tr>\n",
       "      <th>2</th>\n",
       "      <td>1</td>\n",
       "      <td>?</td>\n",
       "      <td>alfa-romero</td>\n",
       "      <td>gas</td>\n",
       "      <td>std</td>\n",
       "      <td>two</td>\n",
       "      <td>hatchback</td>\n",
       "      <td>rwd</td>\n",
       "      <td>front</td>\n",
       "      <td>94.5</td>\n",
       "      <td>...</td>\n",
       "      <td>152</td>\n",
       "      <td>mpfi</td>\n",
       "      <td>2.68</td>\n",
       "      <td>3.47</td>\n",
       "      <td>9.0</td>\n",
       "      <td>154</td>\n",
       "      <td>5000</td>\n",
       "      <td>19</td>\n",
       "      <td>26</td>\n",
       "      <td>16500</td>\n",
       "    </tr>\n",
       "    <tr>\n",
       "      <th>3</th>\n",
       "      <td>2</td>\n",
       "      <td>164</td>\n",
       "      <td>audi</td>\n",
       "      <td>gas</td>\n",
       "      <td>std</td>\n",
       "      <td>four</td>\n",
       "      <td>sedan</td>\n",
       "      <td>fwd</td>\n",
       "      <td>front</td>\n",
       "      <td>99.8</td>\n",
       "      <td>...</td>\n",
       "      <td>109</td>\n",
       "      <td>mpfi</td>\n",
       "      <td>3.19</td>\n",
       "      <td>3.4</td>\n",
       "      <td>10.0</td>\n",
       "      <td>102</td>\n",
       "      <td>5500</td>\n",
       "      <td>24</td>\n",
       "      <td>30</td>\n",
       "      <td>13950</td>\n",
       "    </tr>\n",
       "    <tr>\n",
       "      <th>4</th>\n",
       "      <td>2</td>\n",
       "      <td>164</td>\n",
       "      <td>audi</td>\n",
       "      <td>gas</td>\n",
       "      <td>std</td>\n",
       "      <td>four</td>\n",
       "      <td>sedan</td>\n",
       "      <td>4wd</td>\n",
       "      <td>front</td>\n",
       "      <td>99.4</td>\n",
       "      <td>...</td>\n",
       "      <td>136</td>\n",
       "      <td>mpfi</td>\n",
       "      <td>3.19</td>\n",
       "      <td>3.4</td>\n",
       "      <td>8.0</td>\n",
       "      <td>115</td>\n",
       "      <td>5500</td>\n",
       "      <td>18</td>\n",
       "      <td>22</td>\n",
       "      <td>17450</td>\n",
       "    </tr>\n",
       "  </tbody>\n",
       "</table>\n",
       "<p>5 rows × 26 columns</p>\n",
       "</div>"
      ],
      "text/plain": [
       "   symboling normalized-losses         make fuel-type aspiration num-of-doors  \\\n",
       "0          3                 ?  alfa-romero       gas        std          two   \n",
       "1          3                 ?  alfa-romero       gas        std          two   \n",
       "2          1                 ?  alfa-romero       gas        std          two   \n",
       "3          2               164         audi       gas        std         four   \n",
       "4          2               164         audi       gas        std         four   \n",
       "\n",
       "    body-style drive-wheels engine-location  wheel-base  ...  engine-size  \\\n",
       "0  convertible          rwd           front        88.6  ...          130   \n",
       "1  convertible          rwd           front        88.6  ...          130   \n",
       "2    hatchback          rwd           front        94.5  ...          152   \n",
       "3        sedan          fwd           front        99.8  ...          109   \n",
       "4        sedan          4wd           front        99.4  ...          136   \n",
       "\n",
       "   fuel-system  bore  stroke compression-ratio horsepower  peak-rpm city-mpg  \\\n",
       "0         mpfi  3.47    2.68               9.0        111      5000       21   \n",
       "1         mpfi  3.47    2.68               9.0        111      5000       21   \n",
       "2         mpfi  2.68    3.47               9.0        154      5000       19   \n",
       "3         mpfi  3.19     3.4              10.0        102      5500       24   \n",
       "4         mpfi  3.19     3.4               8.0        115      5500       18   \n",
       "\n",
       "  highway-mpg  price  \n",
       "0          27  13495  \n",
       "1          27  16500  \n",
       "2          26  16500  \n",
       "3          30  13950  \n",
       "4          22  17450  \n",
       "\n",
       "[5 rows x 26 columns]"
      ]
     },
     "metadata": {},
     "output_type": "display_data"
    }
   ],
   "source": [
    "#Reading the data into a pandas dataframe\n",
    "house_df=pd.read_csv(\"C:\\\\Users\\\\dhruv\\\\Downloads\\\\NDAP_REPORT_7004.csv\")\n",
    "auto_df=pd.read_csv(\"C:\\\\Users\\\\dhruv\\\\Downloads\\\\Automobile_data.csv\")\n",
    "display(house_df.head())     #.head(n) is used to print only first n rows. By default, n=5\n",
    "display(auto_df.head())"
   ]
  },
  {
   "cell_type": "markdown",
   "id": "8b24a935-303c-4ebb-bc6d-5265fd8d6d64",
   "metadata": {},
   "source": [
    "__Data Cleaning__"
   ]
  },
  {
   "cell_type": "code",
   "execution_count": 3,
   "id": "eb16ea00-aac8-4dc1-a08d-f563b8d7b9fe",
   "metadata": {},
   "outputs": [
    {
     "data": {
      "text/plain": [
       "Rowid                                                                                          int64\n",
       "Country                                                                                       object\n",
       "State lgd code                                                                                 int64\n",
       "State                                                                                         object\n",
       "District lgd code                                                                              int64\n",
       "District                                                                                      object\n",
       "Year                                                                                           int64\n",
       "Type of residence namely rural or urban                                                       object\n",
       "Number of census houses                                                                      float64\n",
       "Houses having grass or thatch or bamboo etc. as material of wall                             float64\n",
       "Houses having plastic or polythene as material of wall                                       float64\n",
       "Houses having mud or unburnt brick as material of wall                                       float64\n",
       "Houses having wood as material of wall                                                       float64\n",
       "Houses having stone not packed with mortar as material of wall                               float64\n",
       "Houses having stone packed with mortar as material of wall                                   float64\n",
       "Houses having galvanized iron (gi) sheets or metal or asbestos sheets as material of wall    float64\n",
       "Houses having burnt brick as material of wall                                                float64\n",
       "Houses having concrete as material of wall                                                   float64\n",
       "Houses having any other material of wall                                                     float64\n",
       "dtype: object"
      ]
     },
     "execution_count": 3,
     "metadata": {},
     "output_type": "execute_result"
    }
   ],
   "source": [
    "house_df=house_df.dropna()            #dropping the rows with null values\n",
    "#changing the string 'zero' to flaot 0.\n",
    "house_df[\"Number of census houses\"]=house_df[\"Number of census houses\"].replace(\"zero\",float(0))\n",
    "house_df[\"Houses having grass or thatch or bamboo etc. as material of wall\"]=house_df[\"Houses having grass or thatch or bamboo etc. as material of wall\"].replace(\"zero\",float(0))\n",
    "house_df[\"Houses having plastic or polythene as material of wall\"]=house_df[\"Houses having plastic or polythene as material of wall\"].replace(\"zero\",float(0))\n",
    "house_df.dtypes\n",
    "#we also need to change the data types of these columns to float for which we use .astype(dtype)\n",
    "house_df[\"Number of census houses\"]=house_df[\"Number of census houses\"].astype('float64')\n",
    "house_df[\"Houses having grass or thatch or bamboo etc. as material of wall\"]=house_df[\"Houses having grass or thatch or bamboo etc. as material of wall\"].astype('float64')\n",
    "house_df[\"Houses having plastic or polythene as material of wall\"]=house_df[\"Houses having plastic or polythene as material of wall\"].astype('float64')\n",
    "house_df.dtypes  #printing the data types of the columns to check"
   ]
  },
  {
   "cell_type": "code",
   "execution_count": 4,
   "id": "1395e52d-1dbd-47ea-993f-b3fab3721005",
   "metadata": {},
   "outputs": [
    {
     "data": {
      "text/html": [
       "<div>\n",
       "<style scoped>\n",
       "    .dataframe tbody tr th:only-of-type {\n",
       "        vertical-align: middle;\n",
       "    }\n",
       "\n",
       "    .dataframe tbody tr th {\n",
       "        vertical-align: top;\n",
       "    }\n",
       "\n",
       "    .dataframe thead th {\n",
       "        text-align: right;\n",
       "    }\n",
       "</style>\n",
       "<table border=\"1\" class=\"dataframe\">\n",
       "  <thead>\n",
       "    <tr style=\"text-align: right;\">\n",
       "      <th></th>\n",
       "      <th>Rowid</th>\n",
       "      <th>Number of census houses</th>\n",
       "      <th>Houses having mud or unburnt brick as material of wall</th>\n",
       "      <th>Percentage Houses having mud or unburnt bricks as material of wall</th>\n",
       "    </tr>\n",
       "  </thead>\n",
       "  <tbody>\n",
       "    <tr>\n",
       "      <th>0</th>\n",
       "      <td>1</td>\n",
       "      <td>109465.00000</td>\n",
       "      <td>22710.000000</td>\n",
       "      <td>20.746357</td>\n",
       "    </tr>\n",
       "    <tr>\n",
       "      <th>1</th>\n",
       "      <td>2</td>\n",
       "      <td>33522.00000</td>\n",
       "      <td>6807.000000</td>\n",
       "      <td>20.306068</td>\n",
       "    </tr>\n",
       "    <tr>\n",
       "      <th>2</th>\n",
       "      <td>3</td>\n",
       "      <td>85561.57321</td>\n",
       "      <td>7174.278724</td>\n",
       "      <td>8.384931</td>\n",
       "    </tr>\n",
       "    <tr>\n",
       "      <th>3</th>\n",
       "      <td>4</td>\n",
       "      <td>13136.00000</td>\n",
       "      <td>935.000000</td>\n",
       "      <td>7.117844</td>\n",
       "    </tr>\n",
       "    <tr>\n",
       "      <th>4</th>\n",
       "      <td>5</td>\n",
       "      <td>120312.42680</td>\n",
       "      <td>19207.721280</td>\n",
       "      <td>15.964869</td>\n",
       "    </tr>\n",
       "    <tr>\n",
       "      <th>...</th>\n",
       "      <td>...</td>\n",
       "      <td>...</td>\n",
       "      <td>...</td>\n",
       "      <td>...</td>\n",
       "    </tr>\n",
       "    <tr>\n",
       "      <th>1468</th>\n",
       "      <td>1469</td>\n",
       "      <td>42352.00000</td>\n",
       "      <td>426.000000</td>\n",
       "      <td>1.005856</td>\n",
       "    </tr>\n",
       "    <tr>\n",
       "      <th>1469</th>\n",
       "      <td>1470</td>\n",
       "      <td>5410.00000</td>\n",
       "      <td>50.000000</td>\n",
       "      <td>0.924214</td>\n",
       "    </tr>\n",
       "    <tr>\n",
       "      <th>1470</th>\n",
       "      <td>1471</td>\n",
       "      <td>5279.00000</td>\n",
       "      <td>6.000000</td>\n",
       "      <td>0.113658</td>\n",
       "    </tr>\n",
       "    <tr>\n",
       "      <th>1471</th>\n",
       "      <td>1472</td>\n",
       "      <td>35408.00000</td>\n",
       "      <td>4939.000000</td>\n",
       "      <td>13.948825</td>\n",
       "    </tr>\n",
       "    <tr>\n",
       "      <th>1472</th>\n",
       "      <td>1473</td>\n",
       "      <td>37655.00000</td>\n",
       "      <td>1667.000000</td>\n",
       "      <td>4.427035</td>\n",
       "    </tr>\n",
       "  </tbody>\n",
       "</table>\n",
       "<p>1468 rows × 4 columns</p>\n",
       "</div>"
      ],
      "text/plain": [
       "      Rowid  Number of census houses  \\\n",
       "0         1             109465.00000   \n",
       "1         2              33522.00000   \n",
       "2         3              85561.57321   \n",
       "3         4              13136.00000   \n",
       "4         5             120312.42680   \n",
       "...     ...                      ...   \n",
       "1468   1469              42352.00000   \n",
       "1469   1470               5410.00000   \n",
       "1470   1471               5279.00000   \n",
       "1471   1472              35408.00000   \n",
       "1472   1473              37655.00000   \n",
       "\n",
       "      Houses having mud or unburnt brick as material of wall  \\\n",
       "0                                          22710.000000        \n",
       "1                                           6807.000000        \n",
       "2                                           7174.278724        \n",
       "3                                            935.000000        \n",
       "4                                          19207.721280        \n",
       "...                                                 ...        \n",
       "1468                                         426.000000        \n",
       "1469                                          50.000000        \n",
       "1470                                           6.000000        \n",
       "1471                                        4939.000000        \n",
       "1472                                        1667.000000        \n",
       "\n",
       "      Percentage Houses having mud or unburnt bricks as material of wall  \n",
       "0                                             20.746357                   \n",
       "1                                             20.306068                   \n",
       "2                                              8.384931                   \n",
       "3                                              7.117844                   \n",
       "4                                             15.964869                   \n",
       "...                                                 ...                   \n",
       "1468                                           1.005856                   \n",
       "1469                                           0.924214                   \n",
       "1470                                           0.113658                   \n",
       "1471                                          13.948825                   \n",
       "1472                                           4.427035                   \n",
       "\n",
       "[1468 rows x 4 columns]"
      ]
     },
     "metadata": {},
     "output_type": "display_data"
    }
   ],
   "source": [
    "new_df=house_df  #creating a copy of the original dataframe so that changes made are not reflected in the original dataframe\n",
    "new_df=new_df.drop(new_df.columns[1:8],axis=1)   #dropping the unnecessary columns\n",
    "new_df=new_df.drop(new_df.columns[5:12],axis=1)\n",
    "new_df=new_df.drop(new_df.columns[2:4],axis=1)\n",
    "pandas_series=new_df.iloc[:,2].div(new_df.iloc[:,1]).multiply(other=100)  #creating a new pandas series containing the precentage of mud/unburnt brick houses\n",
    "new_df[\"Percentage Houses having mud or unburnt bricks as material of wall\"]=pandas_series    #adding the series as a column in the dataframe\n",
    "extra_df=new_df\n",
    "display(new_df)"
   ]
  },
  {
   "cell_type": "code",
   "execution_count": 5,
   "id": "d6be6347-81ec-4b5f-9a5f-074e980bdfe5",
   "metadata": {},
   "outputs": [
    {
     "name": "stdout",
     "output_type": "stream",
     "text": [
      "[20.74635728 20.30606766  8.38493082 ...  0.11365789 13.94882512\n",
      "  4.42703492]\n",
      "[False False False ...  True  True  True]\n",
      "30\n"
     ]
    }
   ],
   "source": [
    "#checking of the column has some invalid values or not\n",
    "my_arr=new_df.iloc[:,3].to_numpy()   #creating an array of a column of the dataframe\n",
    "print(my_arr)\n",
    "new_arr=np.sort(my_arr)       #Sorting the values of the array\n",
    "check_arr=np.isnan(new_arr)   #Checking for 'not a number' entries\n",
    "print(check_arr)\n",
    "count=0                       #to count the number of nan values\n",
    "for num in range(len(my_arr)):\n",
    "    if(check_arr[num]==True):\n",
    "        count=count+1\n",
    "print(count)"
   ]
  },
  {
   "cell_type": "code",
   "execution_count": 6,
   "id": "f93a96f1-dd0b-4207-b763-7fe33d44b027",
   "metadata": {},
   "outputs": [
    {
     "data": {
      "text/html": [
       "<div>\n",
       "<style scoped>\n",
       "    .dataframe tbody tr th:only-of-type {\n",
       "        vertical-align: middle;\n",
       "    }\n",
       "\n",
       "    .dataframe tbody tr th {\n",
       "        vertical-align: top;\n",
       "    }\n",
       "\n",
       "    .dataframe thead th {\n",
       "        text-align: right;\n",
       "    }\n",
       "</style>\n",
       "<table border=\"1\" class=\"dataframe\">\n",
       "  <thead>\n",
       "    <tr style=\"text-align: right;\">\n",
       "      <th></th>\n",
       "      <th>Number of census houses</th>\n",
       "      <th>Houses having mud or unburnt brick as material of wall</th>\n",
       "      <th>Percentage Houses having mud or unburnt bricks as material of wall</th>\n",
       "    </tr>\n",
       "  </thead>\n",
       "  <tbody>\n",
       "    <tr>\n",
       "      <th>0</th>\n",
       "      <td>120.0000</td>\n",
       "      <td>0.0000</td>\n",
       "      <td>0.000000</td>\n",
       "    </tr>\n",
       "    <tr>\n",
       "      <th>1</th>\n",
       "      <td>9959.0000</td>\n",
       "      <td>3.0000</td>\n",
       "      <td>0.030124</td>\n",
       "    </tr>\n",
       "    <tr>\n",
       "      <th>2</th>\n",
       "      <td>3156.0000</td>\n",
       "      <td>2.0000</td>\n",
       "      <td>0.063371</td>\n",
       "    </tr>\n",
       "    <tr>\n",
       "      <th>3</th>\n",
       "      <td>6305.0000</td>\n",
       "      <td>4.0000</td>\n",
       "      <td>0.063442</td>\n",
       "    </tr>\n",
       "    <tr>\n",
       "      <th>4</th>\n",
       "      <td>19039.0000</td>\n",
       "      <td>15.0000</td>\n",
       "      <td>0.078786</td>\n",
       "    </tr>\n",
       "    <tr>\n",
       "      <th>...</th>\n",
       "      <td>...</td>\n",
       "      <td>...</td>\n",
       "      <td>...</td>\n",
       "    </tr>\n",
       "    <tr>\n",
       "      <th>1433</th>\n",
       "      <td>107424.0000</td>\n",
       "      <td>100704.0000</td>\n",
       "      <td>93.744415</td>\n",
       "    </tr>\n",
       "    <tr>\n",
       "      <th>1434</th>\n",
       "      <td>175008.0000</td>\n",
       "      <td>167506.0000</td>\n",
       "      <td>95.713339</td>\n",
       "    </tr>\n",
       "    <tr>\n",
       "      <th>1435</th>\n",
       "      <td>161287.7004</td>\n",
       "      <td>155579.4393</td>\n",
       "      <td>96.460821</td>\n",
       "    </tr>\n",
       "    <tr>\n",
       "      <th>1436</th>\n",
       "      <td>159973.3595</td>\n",
       "      <td>154311.6153</td>\n",
       "      <td>96.460821</td>\n",
       "    </tr>\n",
       "    <tr>\n",
       "      <th>1437</th>\n",
       "      <td>151729.9402</td>\n",
       "      <td>146359.9454</td>\n",
       "      <td>96.460821</td>\n",
       "    </tr>\n",
       "  </tbody>\n",
       "</table>\n",
       "<p>1438 rows × 3 columns</p>\n",
       "</div>"
      ],
      "text/plain": [
       "      Number of census houses  \\\n",
       "0                    120.0000   \n",
       "1                   9959.0000   \n",
       "2                   3156.0000   \n",
       "3                   6305.0000   \n",
       "4                  19039.0000   \n",
       "...                       ...   \n",
       "1433              107424.0000   \n",
       "1434              175008.0000   \n",
       "1435              161287.7004   \n",
       "1436              159973.3595   \n",
       "1437              151729.9402   \n",
       "\n",
       "      Houses having mud or unburnt brick as material of wall  \\\n",
       "0                                                0.0000        \n",
       "1                                                3.0000        \n",
       "2                                                2.0000        \n",
       "3                                                4.0000        \n",
       "4                                               15.0000        \n",
       "...                                                 ...        \n",
       "1433                                        100704.0000        \n",
       "1434                                        167506.0000        \n",
       "1435                                        155579.4393        \n",
       "1436                                        154311.6153        \n",
       "1437                                        146359.9454        \n",
       "\n",
       "      Percentage Houses having mud or unburnt bricks as material of wall  \n",
       "0                                              0.000000                   \n",
       "1                                              0.030124                   \n",
       "2                                              0.063371                   \n",
       "3                                              0.063442                   \n",
       "4                                              0.078786                   \n",
       "...                                                 ...                   \n",
       "1433                                          93.744415                   \n",
       "1434                                          95.713339                   \n",
       "1435                                          96.460821                   \n",
       "1436                                          96.460821                   \n",
       "1437                                          96.460821                   \n",
       "\n",
       "[1438 rows x 3 columns]"
      ]
     },
     "metadata": {},
     "output_type": "display_data"
    }
   ],
   "source": [
    "new_df=new_df.sort_values(by=\"Percentage Houses having mud or unburnt bricks as material of wall\",ascending=True)  #sorting the values\n",
    "new_df=new_df.dropna()   #dropping the rows having missing values\n",
    "new_df=new_df.reset_index()     #to reset the index because otherwise the indexes would also be arranged by values of the precentage column\n",
    "new_df=new_df.drop(new_df.columns[0:2],axis=1)\n",
    "display(new_df)"
   ]
  },
  {
   "cell_type": "code",
   "execution_count": 7,
   "id": "2673daad-0696-40f2-abc1-d22cffce239a",
   "metadata": {},
   "outputs": [
    {
     "data": {
      "text/plain": [
       "Number of census houses                                               0\n",
       "Houses having mud or unburnt brick as material of wall                0\n",
       "Percentage Houses having mud or unburnt bricks as material of wall    0\n",
       "dtype: int64"
      ]
     },
     "execution_count": 7,
     "metadata": {},
     "output_type": "execute_result"
    }
   ],
   "source": [
    "new_df.isnull().sum()  #finding the number of null values in each column of the dataframe"
   ]
  },
  {
   "cell_type": "markdown",
   "id": "e68f38b2-a16f-41e3-a26d-243ae22af832",
   "metadata": {},
   "source": [
    "Thus, there are no more null values in any column of the dataframe"
   ]
  },
  {
   "cell_type": "markdown",
   "id": "d2e60225-033d-45f3-82d8-6c7253d66d35",
   "metadata": {},
   "source": [
    "__Analysis__"
   ]
  },
  {
   "cell_type": "code",
   "execution_count": 8,
   "id": "b7d4cc38-ff76-4b53-b5f4-6feac35035fd",
   "metadata": {},
   "outputs": [
    {
     "data": {
      "text/html": [
       "<div>\n",
       "<style scoped>\n",
       "    .dataframe tbody tr th:only-of-type {\n",
       "        vertical-align: middle;\n",
       "    }\n",
       "\n",
       "    .dataframe tbody tr th {\n",
       "        vertical-align: top;\n",
       "    }\n",
       "\n",
       "    .dataframe thead th {\n",
       "        text-align: right;\n",
       "    }\n",
       "</style>\n",
       "<table border=\"1\" class=\"dataframe\">\n",
       "  <thead>\n",
       "    <tr style=\"text-align: right;\">\n",
       "      <th></th>\n",
       "      <th>Number of census houses</th>\n",
       "      <th>Houses having mud or unburnt brick as material of wall</th>\n",
       "      <th>Percentage Houses having mud or unburnt bricks as material of wall</th>\n",
       "    </tr>\n",
       "  </thead>\n",
       "  <tbody>\n",
       "    <tr>\n",
       "      <th>0</th>\n",
       "      <td>120.0000</td>\n",
       "      <td>0.0000</td>\n",
       "      <td>0.000000</td>\n",
       "    </tr>\n",
       "    <tr>\n",
       "      <th>1</th>\n",
       "      <td>9959.0000</td>\n",
       "      <td>3.0000</td>\n",
       "      <td>0.030124</td>\n",
       "    </tr>\n",
       "    <tr>\n",
       "      <th>2</th>\n",
       "      <td>3156.0000</td>\n",
       "      <td>2.0000</td>\n",
       "      <td>0.063371</td>\n",
       "    </tr>\n",
       "    <tr>\n",
       "      <th>3</th>\n",
       "      <td>6305.0000</td>\n",
       "      <td>4.0000</td>\n",
       "      <td>0.063442</td>\n",
       "    </tr>\n",
       "    <tr>\n",
       "      <th>4</th>\n",
       "      <td>19039.0000</td>\n",
       "      <td>15.0000</td>\n",
       "      <td>0.078786</td>\n",
       "    </tr>\n",
       "    <tr>\n",
       "      <th>...</th>\n",
       "      <td>...</td>\n",
       "      <td>...</td>\n",
       "      <td>...</td>\n",
       "    </tr>\n",
       "    <tr>\n",
       "      <th>1433</th>\n",
       "      <td>107424.0000</td>\n",
       "      <td>100704.0000</td>\n",
       "      <td>93.744415</td>\n",
       "    </tr>\n",
       "    <tr>\n",
       "      <th>1434</th>\n",
       "      <td>175008.0000</td>\n",
       "      <td>167506.0000</td>\n",
       "      <td>95.713339</td>\n",
       "    </tr>\n",
       "    <tr>\n",
       "      <th>1435</th>\n",
       "      <td>161287.7004</td>\n",
       "      <td>155579.4393</td>\n",
       "      <td>96.460821</td>\n",
       "    </tr>\n",
       "    <tr>\n",
       "      <th>1436</th>\n",
       "      <td>159973.3595</td>\n",
       "      <td>154311.6153</td>\n",
       "      <td>96.460821</td>\n",
       "    </tr>\n",
       "    <tr>\n",
       "      <th>1437</th>\n",
       "      <td>151729.9402</td>\n",
       "      <td>146359.9454</td>\n",
       "      <td>96.460821</td>\n",
       "    </tr>\n",
       "  </tbody>\n",
       "</table>\n",
       "<p>1438 rows × 3 columns</p>\n",
       "</div>"
      ],
      "text/plain": [
       "      Number of census houses  \\\n",
       "0                    120.0000   \n",
       "1                   9959.0000   \n",
       "2                   3156.0000   \n",
       "3                   6305.0000   \n",
       "4                  19039.0000   \n",
       "...                       ...   \n",
       "1433              107424.0000   \n",
       "1434              175008.0000   \n",
       "1435              161287.7004   \n",
       "1436              159973.3595   \n",
       "1437              151729.9402   \n",
       "\n",
       "      Houses having mud or unburnt brick as material of wall  \\\n",
       "0                                                0.0000        \n",
       "1                                                3.0000        \n",
       "2                                                2.0000        \n",
       "3                                                4.0000        \n",
       "4                                               15.0000        \n",
       "...                                                 ...        \n",
       "1433                                        100704.0000        \n",
       "1434                                        167506.0000        \n",
       "1435                                        155579.4393        \n",
       "1436                                        154311.6153        \n",
       "1437                                        146359.9454        \n",
       "\n",
       "      Percentage Houses having mud or unburnt bricks as material of wall  \n",
       "0                                              0.000000                   \n",
       "1                                              0.030124                   \n",
       "2                                              0.063371                   \n",
       "3                                              0.063442                   \n",
       "4                                              0.078786                   \n",
       "...                                                 ...                   \n",
       "1433                                          93.744415                   \n",
       "1434                                          95.713339                   \n",
       "1435                                          96.460821                   \n",
       "1436                                          96.460821                   \n",
       "1437                                          96.460821                   \n",
       "\n",
       "[1438 rows x 3 columns]"
      ]
     },
     "metadata": {},
     "output_type": "display_data"
    }
   ],
   "source": [
    "display(new_df)\n",
    "arr=new_df.iloc[:,2].to_numpy()           #creating an array of the column \"percentage houses having mud/unburnt brick as material of wall\"\n",
    "def arr_mean(array):                      #defining a function to find the mean of the elements of an array\n",
    "    arr_sum=array.sum()\n",
    "    average=arr_sum/len(array)\n",
    "    return average\n",
    "def arr_std_dev(array,mean):              #defining a function to find the standard deviation of the elements of the array\n",
    "    square_sum=0\n",
    "    for i in range(len(array)):\n",
    "        square_sum=square_sum+(array[i]-mean)**2      #this is basically sigma[(xi-mean)^2]/number of values\n",
    "    variance=square_sum/len(array)\n",
    "    #standard deviation is the square root of the variance\n",
    "    std_dev=math.sqrt(variance)\n",
    "    return std_dev\n",
    "a=np.copy(arr)        #creating a copy of the original data so that any changes made are not reflected in the original array\n",
    "b=np.copy(arr)\n",
    "#using z score (I have added the reference link in the references section)\n",
    "mean=arr_mean(arr)\n",
    "dev=arr_std_dev(arr,mean)\n",
    "for num in range(len(arr)):\n",
    "    a[num]=(arr[num]-mean)/dev  #array a has z normalized values from data"
   ]
  },
  {
   "cell_type": "markdown",
   "id": "020176ea-3280-4e6a-b0ab-d1a7758e9680",
   "metadata": {},
   "source": [
    "__Q-Q Plots__"
   ]
  },
  {
   "cell_type": "code",
   "execution_count": 9,
   "id": "129b2e9a-e1af-4c8d-9a44-b7c1ecc4f4e8",
   "metadata": {},
   "outputs": [
    {
     "name": "stdout",
     "output_type": "stream",
     "text": [
      "[0.00000000e+00 3.01235064e-02 6.33713561e-02 ... 9.64608206e+01\n",
      " 9.64608206e+01 9.64608206e+01]\n"
     ]
    },
    {
     "data": {
      "image/png": "[encoded data removed]",
      "text/plain": [
       "<Figure size 432x288 with 1 Axes>"
      ]
     },
     "metadata": {
      "needs_background": "light"
     },
     "output_type": "display_data"
    }
   ],
   "source": [
    "#Q-Q plot with percentile of data(unchanged) on the y axis compared with percentiles from normal distribution\n",
    "print(b)   #copy of the actual array without any change(normalization)\n",
    "qqplot(b,norm,fit=True,line=\"45\")\n",
    "plt.show()"
   ]
  },
  {
   "cell_type": "markdown",
   "id": "76556aed-5742-4813-9ead-5377b6a4c18b",
   "metadata": {},
   "source": [
    "There is some deviation but it is close to the straight line"
   ]
  },
  {
   "cell_type": "code",
   "execution_count": 10,
   "id": "e9fcf205-019d-4fad-950f-1ea64c39e453",
   "metadata": {},
   "outputs": [
    {
     "name": "stdout",
     "output_type": "stream",
     "text": [
      "[-0.99825399 -0.99681872 -0.99523459 ...  3.59773207  3.59773207\n",
      "  3.59773207]\n"
     ]
    },
    {
     "data": {
      "image/png": "[encoded data removed]",
      "text/plain": [
       "<Figure size 432x288 with 1 Axes>"
      ]
     },
     "metadata": {
      "needs_background": "light"
     },
     "output_type": "display_data"
    }
   ],
   "source": [
    "#Q-Q plot of z normalized data on the y axis compared with percentiles from normal distribution \n",
    "print(a)\n",
    "qqplot(a,norm,fit=True,line=\"45\")\n",
    "plt.show()  #to show the plot"
   ]
  },
  {
   "cell_type": "markdown",
   "id": "dc3ffe5d-7e8b-4890-83dd-0a7522d9f75d",
   "metadata": {},
   "source": [
    "There is some deviation but the graph is very similar to the one with un-normalized data"
   ]
  },
  {
   "cell_type": "code",
   "execution_count": 11,
   "id": "167b0150-2f15-440e-a8ab-178610f3d994",
   "metadata": {},
   "outputs": [
    {
     "data": {
      "image/png": "[encoded data removed]",
      "text/plain": [
       "<Figure size 432x288 with 1 Axes>"
      ]
     },
     "metadata": {
      "needs_background": "light"
     },
     "output_type": "display_data"
    }
   ],
   "source": [
    "#Q-Q plot with percentiles of un-normalized data on the y-axis compared with percentiles from uniform distribution\n",
    "qqplot(b,uniform,fit=True,line=\"45\")\n",
    "plt.show()"
   ]
  },
  {
   "cell_type": "code",
   "execution_count": 12,
   "id": "eb52f433-02ad-4acd-8db4-345b618e4666",
   "metadata": {},
   "outputs": [
    {
     "data": {
      "image/png": "[encoded data removed]",
      "text/plain": [
       "<Figure size 432x288 with 1 Axes>"
      ]
     },
     "metadata": {
      "needs_background": "light"
     },
     "output_type": "display_data"
    }
   ],
   "source": [
    "#Q-Q plot with percentiles of z-normalized data on the y axis compared with percentiles from uniform distribution\n",
    "qqplot(a,uniform,fit=True,line=\"45\")\n",
    "plt.show()"
   ]
  },
  {
   "cell_type": "markdown",
   "id": "3b84afe0-1f32-465d-8152-3d88bafcb49d",
   "metadata": {},
   "source": [
    "From these graphs, we can conclude that sample quantiles deviate significantly from the theoretical quantiles in uniform distribution and thus, our data is better repesented/explained by Gaussian distribution than Uniform distribution"
   ]
  },
  {
   "cell_type": "code",
   "execution_count": 13,
   "id": "ad25ce3a-d5b8-46f4-bdb2-17cf9303a4c3",
   "metadata": {},
   "outputs": [
    {
     "data": {
      "image/png": "[encoded data removed]",
      "text/plain": [
       "<Figure size 432x288 with 1 Axes>"
      ]
     },
     "metadata": {
      "needs_background": "light"
     },
     "output_type": "display_data"
    }
   ],
   "source": [
    "#We have to find MLE parameter estimate for Uniform Distribution (1/(b-a))\n",
    "def Uniform_pdf(a):      #defining a function to get the Uniform probability density function for an array 'a'\n",
    "    maximum=np.max(a)    #to find the maximum value in the array\n",
    "    minimum=np.min(a)    #to find the minimum values in the array\n",
    "    zero_arr=np.zeros(len(arr))\n",
    "    for num in range(len(arr)):\n",
    "        zero_arr[num]=1/(maximum-minimum)    #this is basically 1/(b-a) x belongs to [a,b] (Uniform distribution)\n",
    "    return zero_arr\n",
    "pdfunc=Uniform_pdf(arr)      #Probability density function\n",
    "plt.plot(arr,pdfunc , color = 'maroon')\n",
    "plt.title(\"Representation of data using Uniform Probability Distribution\")\n",
    "plt.xlabel('Data points')\n",
    "plt.ylabel('Probability Density Function')\n",
    "plt.show()"
   ]
  },
  {
   "cell_type": "code",
   "execution_count": 14,
   "id": "6875dd72-3809-4c5b-9153-71f9352b02f4",
   "metadata": {},
   "outputs": [
    {
     "data": {
      "image/png": "[encoded data removed]",
      "text/plain": [
       "<Figure size 432x288 with 1 Axes>"
      ]
     },
     "metadata": {
      "needs_background": "light"
     },
     "output_type": "display_data"
    }
   ],
   "source": [
    "#We have to find MLE parameter estimate for Gaussian Distribution\n",
    "def Gauss_pdf(a,mean,std_dev):   #function to get the Gaussian probability density function\n",
    "    k=math.sqrt(2*(np.pi)*(std_dev**2))**(-1)   #basically this is 1/sqrt(2*pi*sigma^2)\n",
    "    probability_density=k*np.exp(-0.5*((a-mean)/std_dev)**2)\n",
    "    return probability_density\n",
    "avg=arr_mean(arr)    #mean of the array arr (this is basically the column - Percentage of houses with mud/unburnt bricks \n",
    "std_dev=arr_std_dev(arr,mean)  #standard deviation of the same column\n",
    "pdfunc=Gauss_pdf(arr,avg,std_dev)  #probability density d=function\n",
    "plt.plot(arr,pdfunc,color = 'maroon')\n",
    "plt.xlabel('Data points')\n",
    "plt.title(\"Representation of Data using Gaussian Probability Distribution\")\n",
    "plt.ylabel('Probability Density Function')\n",
    "plt.show()"
   ]
  },
  {
   "cell_type": "markdown",
   "id": "b32be17e-6d20-49aa-a8ba-9aac538ae723",
   "metadata": {},
   "source": [
    "writing a python function to generate Q-Q plot of the given sample using the Inverted Quadratic function."
   ]
  },
  {
   "cell_type": "code",
   "execution_count": 15,
   "id": "6bd88caf-1f26-43c7-9fc2-9df7a0fb1d6b",
   "metadata": {},
   "outputs": [
    {
     "data": {
      "image/png": "[encoded data removed]",
      "text/plain": [
       "<Figure size 432x288 with 1 Axes>"
      ]
     },
     "metadata": {
      "needs_background": "light"
     },
     "output_type": "display_data"
    }
   ],
   "source": [
    "my_arr=np.linspace(-1,1,100)   #to obtain an array containing 100 equally spaced numbers between -1 and 1\n",
    "#Inverted Quadratic function -> p(x)=0.75(1-x^2) for |x|<=1 and p(x)=0 for |x|>1\n",
    "IQ=0.75*(1-my_arr**2)\n",
    "plt.plot(my_arr, IQ,color='maroon')\n",
    "plt.title(\"Probability Distribution Function of IQ Function\")\n",
    "plt.xlabel('Data points')\n",
    "plt.ylabel('Probability Density Function')\n",
    "plt.show()"
   ]
  },
  {
   "cell_type": "code",
   "execution_count": 16,
   "id": "cedd33a2-4793-42ab-b30a-80355db4afc9",
   "metadata": {},
   "outputs": [
    {
     "name": "stdout",
     "output_type": "stream",
     "text": [
      "0.9998979694949494\n"
     ]
    },
    {
     "data": {
      "text/plain": [
       "<function matplotlib.pyplot.show(close=None, block=None)>"
      ]
     },
     "execution_count": 16,
     "metadata": {},
     "output_type": "execute_result"
    },
    {
     "data": {
      "image/png": "[encoded data removed]",
      "text/plain": [
       "<Figure size 432x288 with 1 Axes>"
      ]
     },
     "metadata": {
      "needs_background": "light"
     },
     "output_type": "display_data"
    }
   ],
   "source": [
    "x=np.linspace(-1,1,100) #Array containing 100 equally sapced numbers from -1 to 1 \n",
    "y=np.linspace(-1,1,100) #Array containing 100 equally spaced numbers from -1 to 1 for storing the probability density function values for x\n",
    "cdf=np.zeros(100)   #Array initialized to 0 in order to store the CDF values(Cumulative Distribution Function)\n",
    "area=0     #Variable to store area of small rectangle\n",
    "for num in range(0,100):\n",
    "    if(x[num]>0 and x[num]<1):  #Tent function  1-x for x=(0,1) and 1+x for x=(-1,0) and 1 for x=0 and 0 elsewhere.\n",
    "        y[num]=1-x[num]\n",
    "    elif(x[num]>-1 and x[num]<0):\n",
    "        y[num]=1+x[num]\n",
    "    elif(x[num]==0):\n",
    "        y[num]=1\n",
    "    else:        #The function is 0 elsewhere\n",
    "        y[num]=0\n",
    "    area=area+y[num]*(0.0202020202)   #0.020202020.. is the wif=dth of each small rectangle. Thus elementaruy area for integration = height*0.02020202.. \n",
    "    cdf[num]=area\n",
    "print(area)\n",
    "#Plotting the probability density function\n",
    "plt.plot(x,y,color=\"maroon\")\n",
    "plt.xlabel('Data points')\n",
    "plt.ylabel('Probability Density')\n",
    "plt.title(\"Probability Density Function\")\n",
    "plt.show        "
   ]
  },
  {
   "cell_type": "code",
   "execution_count": 17,
   "id": "7c2a6f11-bbb0-4db6-b209-93bf2fcda3ff",
   "metadata": {},
   "outputs": [
    {
     "data": {
      "text/plain": [
       "Text(0.5, 1.0, 'Cumulative Distribution Function')"
      ]
     },
     "execution_count": 17,
     "metadata": {},
     "output_type": "execute_result"
    },
    {
     "data": {
      "image/png": "[encoded data removed]",
      "text/plain": [
       "<Figure size 432x288 with 1 Axes>"
      ]
     },
     "metadata": {
      "needs_background": "light"
     },
     "output_type": "display_data"
    }
   ],
   "source": [
    "#PLotting the Cumulative Distribution function\n",
    "plt.plot(x,cdf,color=\"maroon\")\n",
    "plt.xlabel('Data points')\n",
    "plt.ylabel('Probability')\n",
    "plt.title(\"Cumulative Distribution Function\")"
   ]
  },
  {
   "cell_type": "code",
   "execution_count": 18,
   "id": "c2b2b84b-daf2-40e1-9283-286538905b5c",
   "metadata": {},
   "outputs": [
    {
     "data": {
      "text/plain": [
       "<matplotlib.lines._AxLine at 0x284c2c03790>"
      ]
     },
     "execution_count": 18,
     "metadata": {},
     "output_type": "execute_result"
    },
    {
     "data": {
      "image/png": "[encoded data removed]",
      "text/plain": [
       "<Figure size 432x288 with 1 Axes>"
      ]
     },
     "metadata": {
      "needs_background": "light"
     },
     "output_type": "display_data"
    }
   ],
   "source": [
    "#Function to calculate inverse of cdf, to find percentile of theoretical samples from the given distribution\n",
    "# Percentile is inverse of cdf\n",
    "def inverse_cdf(cdf):\n",
    "    inverse_cdf_arr=np.zeros(len(cdf))\n",
    "    for num in range(len(cdf)):\n",
    "        if(cdf[num]>0.5):\n",
    "            inverse_cdf_arr[num]=(-1+ math.sqrt(2*(cdf[num])))\n",
    "        else:\n",
    "            inverse_cdf_arr[num]=(1-math.sqrt(2-2*(cdf[num])))\n",
    "    return inverse_cdf_arr\n",
    "array=inverse_cdf(cdf)\n",
    "e=np.zeros(100) # Array with 100 elements all zero, to store percentiles in it\n",
    "for i in range(0,100):\n",
    "    e[i]=(np.percentile(arr,i))\n",
    "plt.plot(array,e,color=\"yellow\")\n",
    "plt.ylabel('Sample Quantiles')\n",
    "plt.title(\"Q-Q Plot for given function\")\n",
    "plt.xlabel('Theoretical Quantiles')\n",
    "plt.axline([-0.4, 0], [0.8, 100], color='maroon')   #to get a staright line if the distribution was satisfied/explained by the dataset"
   ]
  },
  {
   "cell_type": "code",
   "execution_count": 20,
   "id": "55c37f69-a69e-4b4e-9fe6-871db4cf8089",
   "metadata": {},
   "outputs": [],
   "source": [
    "#creating a new dataframe as the ol one has been altered considerably\n",
    "my_df=house_df\n",
    "ch = 'J' #variable which will be used indexing new columns\n",
    "for i in range(9,19):\n",
    "    my_df['NewCol '+str(ch)]=my_df.iloc[:,i]/my_df['Number of census houses']*100 #adding new columns based on given conditions in question\n",
    "    ch = chr(ord(ch) + 1) #incrementing the ch variable\n",
    "df=my_df.drop(my_df.columns[0:7], axis=1) #Dropping uneccessary columns\n",
    "df=df.drop(df.columns[1:14],axis=1)\n",
    "df=df.drop(df.columns[2:11],axis=1)\n",
    "#Renaming the columns\n",
    "df.rename(columns = {'NewCol L':'% of Houses having mud or unburnt brick as material of wall'}, inplace = True)\n",
    "df=df.dropna() #Dropping data points with 'NaN' Values\n",
    "house_rural = (df[df['Type of residence namely rural or urban']=='Rural']) #Columns containing only rural values\n",
    "house_urban = df[df['Type of residence namely rural or urban']=='Urban']# Columns Containing only urban values\n",
    "#Keeping only numerical columns\n",
    "house_rural=house_rural.drop(house_rural.columns[0:1],axis=1)\n",
    "house_urban=house_urban.drop(house_urban.columns[0:1],axis=1)\n",
    "#Dataframe consisting Of Rural And Urban Values separately\n",
    "cdtR=df[df['Type of residence namely rural or urban']=='Rural']\n",
    "cdtU=df[df['Type of residence namely rural or urban']=='Urban']\n",
    "Rural=cdtR['% of Houses having mud or unburnt brick as material of wall']\n",
    "Urban=cdtU['% of Houses having mud or unburnt brick as material of wall']"
   ]
  },
  {
   "cell_type": "markdown",
   "id": "9c2e3622-71ba-45f0-8de9-a7a27ba1ebaa",
   "metadata": {},
   "source": [
    "we have to determine whether the percentage of houses with 'mud or unburnt bricks' is actually larger in rural areas as compared to urban areas. So, here I am using One Tailed Two sampled T-test. __One Tailed Two sampled T-test -> A one-tailed test is a statistical test in which the critical area of a distribution is one-sided so that it is either greater than or less than a certain value, but not both. If the sample being tested falls into the one-sided critical area, the alternative hypothesis will be accepted instead of the null hypothesis__"
   ]
  },
  {
   "cell_type": "markdown",
   "id": "7998b30d-1eca-4e93-80e3-d5d9f3bc1cdf",
   "metadata": {},
   "source": [
    "1. Null Hyphothesis-> There is no difference in the percentage of mud/unburnt brick houses in rural vs urban areas\n",
    "2. Actual Hypothesis-> There is a difference in the percentage of mud/unburnt brick houses in rural v urban areas"
   ]
  },
  {
   "cell_type": "code",
   "execution_count": 21,
   "id": "e27e58fb-c9ac-40a7-b1f3-00175d38b7e2",
   "metadata": {},
   "outputs": [
    {
     "name": "stdout",
     "output_type": "stream",
     "text": [
      "6.986818169097021e-45\n",
      "The Null Hyphothesis is correct and there is no difference in the percentage of mud/unburnt brick houses in rural and urban areas\n"
     ]
    }
   ],
   "source": [
    "_,p_value=stats.ttest_ind(a=Rural,b=Urban,equal_var=False,alternative='greater')  #Two sampled T test.\n",
    "print(p_value)\n",
    "if(p_value>0.5):\n",
    "    print(\"The Null Hyphothesis is wrong and there is a difference in the percentage of mud/unburnt brick houses in rural and urban areas\")\n",
    "else:\n",
    "    print(\"The Null Hyphothesis is correct and there is no difference in the percentage of mud/unburnt brick houses in rural and urban areas\")"
   ]
  },
  {
   "cell_type": "markdown",
   "id": "f28061b6-7df6-4c94-9e94-744359763650",
   "metadata": {},
   "source": [
    "we have to determine if either rural or urban precentage of houses with \"mud or unburnt brick\" for the same district can be predicted using the other in the housing data. For this, I hve used Pearson Correlation.\n",
    "\n",
    "This is because if the correlation is found to be higher, then the variables are highly dependent on each other.\n",
    "If Pearson correlation is positive and close to 1, then increase in one variable causes increase in the other and if the Pearson correlation is negative and close to -1, then increase in one variable causes a decrease in the other variable."
   ]
  },
  {
   "cell_type": "code",
   "execution_count": 22,
   "id": "f9ed07cb-a54d-4e1e-976f-a2fe9e9d74d9",
   "metadata": {},
   "outputs": [
    {
     "data": {
      "text/html": [
       "<div>\n",
       "<style scoped>\n",
       "    .dataframe tbody tr th:only-of-type {\n",
       "        vertical-align: middle;\n",
       "    }\n",
       "\n",
       "    .dataframe tbody tr th {\n",
       "        vertical-align: top;\n",
       "    }\n",
       "\n",
       "    .dataframe thead th {\n",
       "        text-align: right;\n",
       "    }\n",
       "</style>\n",
       "<table border=\"1\" class=\"dataframe\">\n",
       "  <thead>\n",
       "    <tr style=\"text-align: right;\">\n",
       "      <th></th>\n",
       "      <th>Rural</th>\n",
       "      <th>Urban</th>\n",
       "    </tr>\n",
       "  </thead>\n",
       "  <tbody>\n",
       "    <tr>\n",
       "      <th>Rural</th>\n",
       "      <td>1.000000</td>\n",
       "      <td>0.341851</td>\n",
       "    </tr>\n",
       "    <tr>\n",
       "      <th>Urban</th>\n",
       "      <td>0.341851</td>\n",
       "      <td>1.000000</td>\n",
       "    </tr>\n",
       "  </tbody>\n",
       "</table>\n",
       "</div>"
      ],
      "text/plain": [
       "          Rural     Urban\n",
       "Rural  1.000000  0.341851\n",
       "Urban  0.341851  1.000000"
      ]
     },
     "execution_count": 22,
     "metadata": {},
     "output_type": "execute_result"
    }
   ],
   "source": [
    "mylist = list(zip(Rural,Urban))         #using a zip function to combine both rural and urban values and making a new dataframe from it\n",
    "rur_urb = pd.DataFrame(mylist, columns=['Rural','Urban'])\n",
    "rur_urb.corr('pearson')"
   ]
  },
  {
   "cell_type": "markdown",
   "id": "9115c16c-51b2-4d08-bda7-f745293b8ef1",
   "metadata": {},
   "source": [
    "thus, we can see that the correlation is small and positive and thus, we cannot predict either rural or urban precentage of houses with \"mud or unburnt brick\" for the same district using the other"
   ]
  },
  {
   "cell_type": "markdown",
   "id": "b13e555f-8bbc-445d-8c07-97bcccd0919b",
   "metadata": {},
   "source": [
    "References -\n",
    "1. Stack Overflow\n",
    "2. Pandas documentation\n",
    "3. https://www.youtube.com/watch?v=4Fta6KQ1QHQ&t=248s\n",
    "4. https://www.youtube.com/watch?v=ttmKa1DovfI\n",
    "5. https://stackoverflow.com/questions/15984221/how-to-perform-two-sample-one-tailed-t-test-with-numpy-scipy\n",
    "6. https://stats.stackexchange.com/questions/427749/qq-plot-comparison-of-z-normalized-datasets\n",
    "\n",
    "Thank You"
   ]
  },
  {
   "cell_type": "code",
   "execution_count": null,
   "id": "ee272724-aa5a-4afc-9a20-529c2dfeb23c",
   "metadata": {},
   "outputs": [],
   "source": []
  }
 ],
 "metadata": {
  "kernelspec": {
   "display_name": "Python 3 (ipykernel)",
   "language": "python",
   "name": "python3"
  },
  "language_info": {
   "codemirror_mode": {
    "name": "ipython",
    "version": 3
   },
   "file_extension": ".py",
   "mimetype": "text/x-python",
   "name": "python",
   "nbconvert_exporter": "python",
   "pygments_lexer": "ipython3",
   "version": "3.9.12"
  }
 },
 "nbformat": 4,
 "nbformat_minor": 5
}
